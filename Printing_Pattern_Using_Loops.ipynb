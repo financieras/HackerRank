{
  "nbformat": 4,
  "nbformat_minor": 0,
  "metadata": {
    "colab": {
      "provenance": [],
      "authorship_tag": "ABX9TyOqkX2BPVDjXuUtma07atKc",
      "include_colab_link": true
    },
    "kernelspec": {
      "name": "python3",
      "display_name": "Python 3"
    },
    "language_info": {
      "name": "python"
    }
  },
  "cells": [
    {
      "cell_type": "markdown",
      "metadata": {
        "id": "view-in-github",
        "colab_type": "text"
      },
      "source": [
        "<a href=\"https://colab.research.google.com/github/financieras/HackerRank/blob/main/Printing_Pattern_Using_Loops.ipynb\" target=\"_parent\"><img src=\"https://colab.research.google.com/assets/colab-badge.svg\" alt=\"Open In Colab\"/></a>"
      ]
    },
    {
      "cell_type": "markdown",
      "source": [
        "# Printing Pattern Using Loops\n",
        "https://www.hackerrank.com/challenges/printing-pattern-2/problem?h_r=profile"
      ],
      "metadata": {
        "id": "nDH2HTX0TaHV"
      }
    },
    {
      "cell_type": "code",
      "execution_count": 16,
      "metadata": {
        "colab": {
          "base_uri": "https://localhost:8080/"
        },
        "id": "I9fWKv0kb8ql",
        "outputId": "fa667f2a-f36c-4a72-8c44-a2c7061881b1"
      },
      "outputs": [
        {
          "output_type": "stream",
          "name": "stdout",
          "text": [
            "[0, 1, 2, 3, 4, 5, 6, 7, 8, 7, 6, 5, 4, 3, 2, 1, 0]\n",
            "\n",
            "\n",
            "\n",
            "9 9 9 9 9 9 9 9 9 9 9 9 9 9 9 9 9\n",
            "9 8 8 8 8 8 8 8 8 8 8 8 8 8 8 8 9\n",
            "9 8 7 7 7 7 7 7 7 7 7 7 7 7 7 8 9\n",
            "9 8 7 6 6 6 6 6 6 6 6 6 6 6 7 8 9\n",
            "9 8 7 6 5 5 5 5 5 5 5 5 5 6 7 8 9\n",
            "9 8 7 6 5 4 4 4 4 4 4 4 5 6 7 8 9\n",
            "9 8 7 6 5 4 3 3 3 3 3 4 5 6 7 8 9\n",
            "9 8 7 6 5 4 3 2 2 2 3 4 5 6 7 8 9\n",
            "9 8 7 6 5 4 3 2 1 2 3 4 5 6 7 8 9\n",
            "9 8 7 6 5 4 3 2 2 2 3 4 5 6 7 8 9\n",
            "9 8 7 6 5 4 3 3 3 3 3 4 5 6 7 8 9\n",
            "9 8 7 6 5 4 4 4 4 4 4 4 5 6 7 8 9\n",
            "9 8 7 6 5 5 5 5 5 5 5 5 5 6 7 8 9\n",
            "9 8 7 6 6 6 6 6 6 6 6 6 6 6 7 8 9\n",
            "9 8 7 7 7 7 7 7 7 7 7 7 7 7 7 8 9\n",
            "9 8 8 8 8 8 8 8 8 8 8 8 8 8 8 8 9\n",
            "9 9 9 9 9 9 9 9 9 9 9 9 9 9 9 9 9\n"
          ]
        }
      ],
      "source": [
        "n = 9\n",
        "m = 2*n-1\n",
        "matriz = [[0]*m for _ in range(m)]\n",
        "vector = [None] * m\n",
        "\n",
        "for i in range(m):\n",
        "    if i < n:\n",
        "        vector[i] = i\n",
        "    else:\n",
        "        vector[i] = m-i-1\n",
        "\n",
        "print(vector)\n",
        "\n",
        "for i in range(m):\n",
        "    for j in range(m):\n",
        "        matriz[i][j] = n - min(vector[i], vector[j])\n",
        "\n",
        "print(\"\\n\\n\")\n",
        "for fila in range(m):\n",
        "    print(*matriz[fila])"
      ]
    }
  ]
}